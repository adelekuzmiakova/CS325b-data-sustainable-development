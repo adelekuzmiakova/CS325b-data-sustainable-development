{
 "cells": [
  {
   "cell_type": "code",
   "execution_count": 1,
   "metadata": {},
   "outputs": [],
   "source": [
    "import AQP_experiment_class as AQP\n",
    "import os\n",
    "os.environ['TF_CPP_MIN_LOG_LEVEL'] = '3'\n",
    "import tensorflow as tf\n",
    "from tensorflow.python.client import timeline\n",
    "import time\n",
    "import numpy as np"
   ]
  },
  {
   "cell_type": "code",
   "execution_count": 2,
   "metadata": {},
   "outputs": [],
   "source": [
    "experiment_directory_suffix = \"testing_simple_cnn_123\"\n",
    "experiment_directory_name = None"
   ]
  },
  {
   "cell_type": "code",
   "execution_count": 3,
   "metadata": {},
   "outputs": [],
   "source": [
    "def initialize_params_for_experiment():\n",
    "    params_initialization_for_training = {}\n",
    "    params_initialization_for_training['training_path'] = \"../datasets/TRAINING_raw_dataset_with_filePath_AND_webcamId_AND_webcamLat_AND_webcamLong_AND_year_AND_date_AND_hour_AND_range_AND_pm.npy\"\n",
    "    params_initialization_for_training['batch_size'] = 64\n",
    "    params_initialization_for_training['stage_of_development'] = \"training\"\n",
    "    params_initialization_for_training['learning_rate'] = 0.001\n",
    "    params_initialization_for_training['learning_rate_decay_factor'] = 0.99\n",
    "    params_initialization_for_training['max_steps'] = None\n",
    "    params_initialization_for_training['num_epochs'] = 1\n",
    "    params_initialization_for_training['type_of_model'] = 'SimpleCNN'\n",
    "    return AQP.initialize_params(experiment_directory_name,\n",
    "                          experiment_directory_suffix,\n",
    "                          \"training\",\n",
    "                          params_initialization_for_training=params_initialization_for_training)"
   ]
  },
  {
   "cell_type": "code",
   "execution_count": 1,
   "metadata": {},
   "outputs": [],
   "source": [
    "params, filenames_of_training_images, labels_of_training_images = initialize_params_for_experiment()\n",
    "if params != None and filenames_of_training_images != None and labels_of_training_images != None:\n",
    "    AQP.run_training_with_dataseta_api(params, \"/gpu:0\", filenames_of_training_images, labels_of_training_images)"
   ]
  },
  {
   "cell_type": "code",
   "execution_count": 5,
   "metadata": {
    "collapsed": true
   },
   "outputs": [],
   "source": [
    "def initialize_params_for_resuming_training_from_checkpoint():\n",
    "    params_initialization_for_resume_training = {}\n",
    "    params_initialization_for_resume_training['resume_training'] = True\n",
    "    params_initialization_for_resume_training['training_path_zero_labeled'] = \"data/0/training_filenames_02.txt\"\n",
    "    params_initialization_for_resume_training['training_path_one_labeled'] = \"data/1/training_filenames_02.txt\"\n",
    "    params_initialization_for_resume_training['data_dir'] = 'data'\n",
    "    params_initialization_for_resume_training['logs_dir'] = 'logs'\n",
    "    params_initialization_for_resume_training['max_steps'] = 4\n",
    "    params_initialization_for_resume_training['num_epochs'] = 1\n",
    "    params_initialization_for_resume_training['batch_size'] = 32\n",
    "    return pac.initialize_params(experiment_directory_name,\n",
    "           experiment_directory_suffix,\n",
    "           \"resume_training\",\n",
    "           params_initialization_for_resume_training=params_initialization_for_resume_training)"
   ]
  },
  {
   "cell_type": "code",
   "execution_count": 6,
   "metadata": {},
   "outputs": [],
   "source": [
    "params, filenames_of_resume_training_images, labels_of_resume_training_images = initialize_params_for_resuming_training_from_checkpoint()\n",
    "if params != None and filenames_of_resume_training_images != None and labels_of_resume_training_images != None:\n",
    "    pac.run_training_with_feed_dictionary(params, \"/gpu:0\", filenames_of_resume_training_images, labels_of_resume_training_images)"
   ]
  },
  {
   "cell_type": "code",
   "execution_count": null,
   "metadata": {
    "collapsed": true
   },
   "outputs": [],
   "source": []
  },
  {
   "cell_type": "code",
   "execution_count": 6,
   "metadata": {
    "collapsed": true
   },
   "outputs": [],
   "source": [
    "def initialize_params_for_evaluation_from_checkpoint():\n",
    "    params_initialization_for_evaluation = {}\n",
    "    params_initialization_for_evaluation['evaluate_model'] = True\n",
    "    params_initialization_for_evaluation['resume_training'] = False\n",
    "    params_initialization_for_evaluation['stage_of_development'] = \"evaluation\"\n",
    "    params_initialization_for_evaluation['dev_path_zero_labeled'] = \"data/0/dev_filenames_02.txt\"\n",
    "    params_initialization_for_evaluation['dev_path_one_labeled'] = \"data/1/dev_filenames_02.txt\"\n",
    "    params_initialization_for_evaluation['data_dir'] = 'data'\n",
    "    params_initialization_for_evaluation['logs_dir'] = 'logs'\n",
    "    params_initialization_for_evaluation['max_steps'] = None\n",
    "    params_initialization_for_evaluation['num_epochs'] = 1\n",
    "    params_initialization_for_evaluation['batch_size'] = 32\n",
    "    return pac.initialize_params(experiment_directory_name,\n",
    "                                    experiment_directory_suffix,\n",
    "                                    \"evaluation\",\n",
    "                                    params_initialization_for_evaluation=params_initialization_for_evaluation)"
   ]
  },
  {
   "cell_type": "code",
   "execution_count": 7,
   "metadata": {},
   "outputs": [
    {
     "name": "stdout",
     "output_type": "stream",
     "text": [
      "Reading model parameters from logs/0000000001_experiment_2018-01-14_14:15:24_hygiene_detector_for_sensor_02/translate.ckpt-227\n",
      "Done creating the model.\n",
      "128.02756690979004\n",
      "Accuracy For Current Batch: 0.875 \n",
      "Accuracy For Current Batch: 0.84375 \n",
      "Accuracy For Current Batch: 0.84375 \n",
      "Accuracy For Current Batch: 0.9375 \n",
      "Accuracy For Current Batch: 0.8125 \n",
      "Accuracy For Current Batch: 0.8125 \n",
      "Accuracy For Current Batch: 0.84375 \n",
      "Accuracy For Current Batch: 0.84375 \n",
      "Accuracy For Current Batch: 0.875 \n",
      "Accuracy For Current Batch: 0.9375 \n",
      "Accuracy For Current Batch: 0.75 \n",
      "Accuracy For Current Batch: 0.71875 \n",
      "Accuracy For Current Batch: 0.75 \n",
      "Accuracy For Current Batch: 0.6875 \n",
      "Accuracy For Current Batch: 0.84375 \n",
      "Accuracy For Current Batch: 0.8125 \n",
      "Accuracy For Current Batch: 0.90625 \n",
      "Accuracy For Current Batch: 0.6875 \n",
      "Accuracy For Current Batch: 0.875 \n",
      "Accuracy For Current Batch: 0.90625 \n",
      "Accuracy For Current Batch: 0.875 \n",
      "Accuracy For Current Batch: 0.875 \n",
      "Accuracy For Current Batch: 0.90625 \n",
      "Accuracy For Current Batch: 0.5625 \n",
      "Accuracy For Current Batch: 0.78125 \n",
      "Accuracy For Current Batch: 0.75 \n",
      "Accuracy For Current Batch: 0.90625 \n",
      "Accuracy For Current Batch: 0.78125 \n",
      "Accuracy For Current Batch: 0.75 \n",
      "Accuracy For Current Batch: 0.9375 \n",
      "Accuracy For Current Batch: 0.78125 \n",
      "Accuracy For Current Batch: 0.78125 \n",
      "Accuracy For Current Batch: 0.6875 \n",
      "Accuracy For Current Batch: 0.875 \n",
      "Accuracy For Current Batch: 0.8125 \n",
      "Accuracy For Current Batch: 0.625 \n",
      "Accuracy For Current Batch: 0.75 \n",
      "Accuracy For Current Batch: 0.84375 \n",
      "Accuracy For Current Batch: 0.75 \n",
      "Accuracy For Current Batch: 0.9375 \n",
      "Accuracy For Current Batch: 0.78125 \n",
      "Accuracy For Current Batch: 0.9375 \n",
      "Accuracy For Current Batch: 0.75 \n",
      "Accuracy For Current Batch: 0.875 \n",
      "Accuracy For Current Batch: 0.8125 \n",
      "Accuracy For Current Batch: 0.875 \n",
      "Accuracy For Current Batch: 0.8125 \n",
      "Accuracy For Current Batch: 0.78125 \n",
      "Accuracy For Current Batch: 0.65625 \n",
      "Accuracy For Current Batch: 0.875 \n",
      "Accuracy For Current Batch: 0.9375 \n",
      "Accuracy For Current Batch: 0.90625 \n",
      "Accuracy For Current Batch: 0.78125 \n",
      "Accuracy For Current Batch: 0.8125 \n",
      "Accuracy For Current Batch: 0.78125 \n",
      "Accuracy For Current Batch: 0.8125 \n",
      "Accuracy For Current Batch: 0.84375 \n",
      "Accuracy For Current Batch: 0.875 \n",
      "Accuracy For Current Batch: 0.90625 \n",
      "Accuracy For Current Batch: 0.8125 \n",
      "Accuracy For Current Batch: 0.5625 \n",
      "Accuracy For Current Batch: 0.875 \n",
      "Accuracy For Current Batch: 0.90625 \n",
      "Accuracy For Current Batch: 0.90625 \n",
      "Accuracy For Current Batch: 0.9375 \n",
      "Accuracy For Current Batch: 0.75 \n",
      "Accuracy For Current Batch: 0.875 \n",
      "Accuracy For Current Batch: 0.84375 \n",
      "Accuracy For Current Batch: 0.75 \n",
      "Accuracy For Current Batch: 0.78125 \n",
      "Accuracy For Current Batch: 0.90625 \n",
      "Accuracy For Current Batch: 0.875 \n",
      "Accuracy For Current Batch: 0.71875 \n",
      "Accuracy For Current Batch: 0.75 \n",
      "Accuracy For Current Batch: 0.84375 \n",
      "Accuracy For Current Batch: 0.875 \n",
      "Accuracy For Current Batch: 0.90625 \n",
      "Accuracy For Current Batch: 0.6875 \n",
      "Accuracy For Current Batch: 0.96875 \n",
      "Accuracy For Current Batch: 0.84375 \n",
      "Accuracy For Current Batch: 0.84375 \n",
      "Accuracy For Current Batch: 0.71875 \n",
      "Accuracy For Current Batch: 0.8125 \n",
      "Accuracy For Current Batch: 0.8125 \n",
      "Accuracy For Current Batch: 0.8125 \n",
      "Accuracy For Current Batch: 0.625 \n",
      "Accuracy For Current Batch: 0.84375 \n",
      "Accuracy For Current Batch: 0.90625 \n",
      "Accuracy For Current Batch: 0.96875 \n",
      "Accuracy For Current Batch: 0.75 \n",
      "Accuracy For Current Batch: 0.90625 \n",
      "Accuracy For Current Batch: 0.84375 \n",
      "Accuracy For Current Batch: 0.8125 \n",
      "Accuracy For Current Batch: 0.84375 \n",
      "Accuracy For Current Batch: 0.8125 \n",
      "Accuracy For Current Batch: 0.90625 \n",
      "Accuracy For Current Batch: 0.78125 \n",
      "Accuracy For Current Batch: 0.65625 \n",
      "Accuracy For Current Batch: 0.75 \n",
      "Accuracy For Current Batch: 0.6875 \n",
      "Accuracy For Current Batch: 0.875 \n",
      "Accuracy For Current Batch: 0.90625 \n",
      "Accuracy For Current Batch: 0.9375 \n",
      "Accuracy For Current Batch: 0.90625 \n",
      "Accuracy For Current Batch: 0.8125 \n",
      "Accuracy For Current Batch: 0.90625 \n",
      "Accuracy For Current Batch: 0.90625 \n",
      "Accuracy For Current Batch: 0.875 \n",
      "Accuracy For Current Batch: 0.8125 \n",
      "Accuracy For Current Batch: 0.78125 \n",
      "Accuracy For Current Batch: 0.65625 \n",
      "Accuracy For Current Batch: 0.8125 \n",
      "Accuracy For Current Batch: 0.78125 \n",
      "Accuracy For Current Batch: 0.90625 \n",
      "Accuracy For Current Batch: 0.8125 \n",
      "Accuracy For Current Batch: 0.875 \n",
      "Accuracy For Current Batch: 0.90625 \n",
      "Accuracy For Current Batch: 0.84375 \n",
      "Accuracy For Current Batch: 0.84375 \n",
      "Accuracy For Current Batch: 0.90625 \n",
      "Accuracy For Current Batch: 0.9375 \n",
      "Accuracy For Current Batch: 0.875 \n",
      "Accuracy For Current Batch: 0.59375 \n",
      "Accuracy For Current Batch: 0.71875 \n",
      "Accuracy For Current Batch: 0.8125 \n",
      "Accuracy For Current Batch: 0.90625 \n",
      "Accuracy For Current Batch: 0.8125 \n",
      "Accuracy For Current Batch: 0.78125 \n",
      "Accuracy For Current Batch: 0.8125 \n",
      "Accuracy For Current Batch: 0.90625 \n",
      "Average Accuracy Across Batches: 0.8233173076923077 \n"
     ]
    }
   ],
   "source": [
    "params, filenames_of_evaluation_images, labels_of_evaluation_images = initialize_params_for_evaluation_from_checkpoint()\n",
    "if params != None and filenames_of_evaluation_images != None and labels_of_evaluation_images != None:\n",
    "    pac.evaluate_model_with_feed_dictionary(params, \"/gpu:0\", filenames_of_evaluation_images, labels_of_evaluation_images)"
   ]
  },
  {
   "cell_type": "code",
   "execution_count": null,
   "metadata": {
    "collapsed": true
   },
   "outputs": [],
   "source": []
  }
 ],
 "metadata": {
  "kernelspec": {
   "display_name": "Python 3",
   "language": "python",
   "name": "python3"
  },
  "language_info": {
   "codemirror_mode": {
    "name": "ipython",
    "version": 3
   },
   "file_extension": ".py",
   "mimetype": "text/x-python",
   "name": "python",
   "nbconvert_exporter": "python",
   "pygments_lexer": "ipython3",
   "version": "3.5.2"
  }
 },
 "nbformat": 4,
 "nbformat_minor": 1
}
