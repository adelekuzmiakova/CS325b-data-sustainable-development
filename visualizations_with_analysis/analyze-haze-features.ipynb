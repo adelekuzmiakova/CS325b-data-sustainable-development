{
 "cells": [
  {
   "cell_type": "code",
   "execution_count": 1,
   "metadata": {},
   "outputs": [],
   "source": [
    "import os\n",
    "import numpy as np"
   ]
  },
  {
   "cell_type": "code",
   "execution_count": 2,
   "metadata": {},
   "outputs": [],
   "source": [
    "test = np.load('/Users/adele/Desktop/CS325b_project/CS325B-Big-Brother-Air-Quality-Group-/results_data/Haze_features/npy_datasets_by_webcamId_and_pmRange_haze_features_DEV_dark_channel_AND_atmosphere_AND_transmission_features_webcamId_1066_pmRange_40-49.npy')"
   ]
  },
  {
   "cell_type": "code",
   "execution_count": 8,
   "metadata": {},
   "outputs": [
    {
     "data": {
      "text/plain": [
       "array(['/mnt/mounted_bucket/00001066/2016/00001066_20160411_162828.jpg',\n",
       "       '1066', '61.2', '-149.8', '2016', '20160411', '162828.jpg',\n",
       "       '40-49', '43.0', '0.5817051', '0.5962353', '0.6177098',\n",
       "       '0.6353725', '0.65396863', '0.6884706', '0.7222408', '0.7150667',\n",
       "       '0.70439214', '0.6896737', '0.5469726', '0.5732549', '0.5962353',\n",
       "       '0.62596077', '0.659462', '0.69541645', '0.72283924', '0.7159765',\n",
       "       '0.70439214', '0.68854904', '0.5502588', '0.5786902', '0.60049415',\n",
       "       '0.62230116', '0.6464314', '0.6763137', '0.7007012', '0.70052546',\n",
       "       '0.6928392', '0.6806447', '0.5067404', '0.5432282', '0.5550055',\n",
       "       '0.5618824', '0.57387453', '0.5875749', '0.6006549', '0.60481095',\n",
       "       '0.60481095', '0.6082306', '0.3491247', '0.27745727', '0.27236706',\n",
       "       '0.26392156', '0.2599137', '0.26392156', '0.27236706', '0.2762855',\n",
       "       '0.27745727', '0.27069333', '0.15708235', '0.15886274',\n",
       "       '0.15858823', '0.16177255', '0.16775686', '0.17039216',\n",
       "       '0.17202666', '0.17194666', '0.17209254', '0.17117646',\n",
       "       '0.12156863', '0.13197176', '0.13756235', '0.13756235',\n",
       "       '0.13929097', '0.13931294', '0.14062744', '0.14209412',\n",
       "       '0.14262745', '0.14119922', '0.113099605', '0.11879059',\n",
       "       '0.12339294', '0.12256784', '0.122773334', '0.12337255',\n",
       "       '0.12430745', '0.124737255', '0.124481566', '0.12295529',\n",
       "       '0.10601098', '0.104980394', '0.111344315', '0.11182275',\n",
       "       '0.11123137', '0.11007843', '0.109882355', '0.1102902',\n",
       "       '0.10834981', '0.105549805', '0.085098036', '0.096836075',\n",
       "       '0.104276076', '0.10415686', '0.10414902', '0.102244705',\n",
       "       '0.10079373', '0.09952157', '0.09749176', '0.09469961',\n",
       "       '0.99215686', '0.9988235', '0.9843137', '0.4430116', '0.4290988',\n",
       "       '0.41023165', '0.39166206', '0.3759481', '0.3407826', '0.3090158',\n",
       "       '0.31757706', '0.32774147', '0.3396306', '0.47626838',\n",
       "       '0.45110276', '0.4290988', '0.40063637', '0.36939526',\n",
       "       '0.33430758', '0.30792463', '0.3155494', '0.32779053', '0.3407075',\n",
       "       '0.4730316', '0.4458984', '0.42490754', '0.40106142', '0.38103557',\n",
       "       '0.3515773', '0.32799777', '0.32985258', '0.33536047', '0.3480672',\n",
       "       '0.5147911', '0.4798536', '0.46857676', '0.46192777', '0.4505095',\n",
       "       '0.43655613', '0.42397112', '0.4208875', '0.4208875', '0.4174585',\n",
       "       '0.663046', '0.733346', '0.7389488', '0.7472925', '0.749147',\n",
       "       '0.7472925', '0.7383165', '0.7345723', '0.7333992', '0.7389488',\n",
       "       '0.8483936', '0.8466753', '0.8469402', '0.84386694', '0.83815634',\n",
       "       '0.8355478', '0.8339703', '0.8340475', '0.8339067', '0.8347908',\n",
       "       '0.8826693', '0.87262887', '0.86723316', '0.86723316', '0.8657131',\n",
       "       '0.8655436', '0.8642749', '0.8631485', '0.8623446', '0.8641129',\n",
       "       '0.8912004', '0.8853505', '0.88101125', '0.8817049', '0.8815066',\n",
       "       '0.8809283', '0.880026', '0.87983674', '0.879923', '0.88151723',\n",
       "       '0.89768463', '0.89867926', '0.89306706', '0.8924288', '0.893441',\n",
       "       '0.8939482', '0.89409834', '0.8939482', '0.89564836', '0.89821',\n",
       "       '0.91786855', '0.9067789', '0.89935905', '0.8994741', '0.89949834',\n",
       "       '0.9013196', '0.9029592', '0.90398014', '0.90590686', '0.9086607',\n",
       "       '4739.406', '3825.237', '3397.786', '3270.4956', '3118.6074',\n",
       "       '2890.5479', '2486.835', '2367.3684', '2394.2778', '2356.8936',\n",
       "       '91069.0', '96966.0', '75223.0', '35967.0', '5151.0', '1527.0',\n",
       "       '395.0', '198.0', '108.0', '596.0', '37250020.0'], dtype='<U62')"
      ]
     },
     "execution_count": 8,
     "metadata": {},
     "output_type": "execute_result"
    }
   ],
   "source": [
    "test[1]"
   ]
  },
  {
   "cell_type": "code",
   "execution_count": 9,
   "metadata": {},
   "outputs": [
    {
     "data": {
      "text/plain": [
       "array(['filePath', 'webcamId', 'webcamLat', 'webcamLong', 'year', 'date',\n",
       "       'hour', 'range', 'pm', 'Dark_Channel_0', 'Dark_Channel_1',\n",
       "       'Dark_Channel_2', 'Dark_Channel_3', 'Dark_Channel_4',\n",
       "       'Dark_Channel_5', 'Dark_Channel_6', 'Dark_Channel_7',\n",
       "       'Dark_Channel_8', 'Dark_Channel_9', 'Dark_Channel_10',\n",
       "       'Dark_Channel_11', 'Dark_Channel_12', 'Dark_Channel_13',\n",
       "       'Dark_Channel_14', 'Dark_Channel_15', 'Dark_Channel_16',\n",
       "       'Dark_Channel_17', 'Dark_Channel_18', 'Dark_Channel_19',\n",
       "       'Dark_Channel_20', 'Dark_Channel_21', 'Dark_Channel_22',\n",
       "       'Dark_Channel_23', 'Dark_Channel_24', 'Dark_Channel_25',\n",
       "       'Dark_Channel_26', 'Dark_Channel_27', 'Dark_Channel_28',\n",
       "       'Dark_Channel_29', 'Dark_Channel_30', 'Dark_Channel_31',\n",
       "       'Dark_Channel_32', 'Dark_Channel_33', 'Dark_Channel_34',\n",
       "       'Dark_Channel_35', 'Dark_Channel_36', 'Dark_Channel_37',\n",
       "       'Dark_Channel_38', 'Dark_Channel_39', 'Dark_Channel_40',\n",
       "       'Dark_Channel_41', 'Dark_Channel_42', 'Dark_Channel_43',\n",
       "       'Dark_Channel_44', 'Dark_Channel_45', 'Dark_Channel_46',\n",
       "       'Dark_Channel_47', 'Dark_Channel_48', 'Dark_Channel_49',\n",
       "       'Dark_Channel_50', 'Dark_Channel_51', 'Dark_Channel_52',\n",
       "       'Dark_Channel_53', 'Dark_Channel_54', 'Dark_Channel_55',\n",
       "       'Dark_Channel_56', 'Dark_Channel_57', 'Dark_Channel_58',\n",
       "       'Dark_Channel_59', 'Dark_Channel_60', 'Dark_Channel_61',\n",
       "       'Dark_Channel_62', 'Dark_Channel_63', 'Dark_Channel_64',\n",
       "       'Dark_Channel_65', 'Dark_Channel_66', 'Dark_Channel_67',\n",
       "       'Dark_Channel_68', 'Dark_Channel_69', 'Dark_Channel_70',\n",
       "       'Dark_Channel_71', 'Dark_Channel_72', 'Dark_Channel_73',\n",
       "       'Dark_Channel_74', 'Dark_Channel_75', 'Dark_Channel_76',\n",
       "       'Dark_Channel_77', 'Dark_Channel_78', 'Dark_Channel_79',\n",
       "       'Dark_Channel_80', 'Dark_Channel_81', 'Dark_Channel_82',\n",
       "       'Dark_Channel_83', 'Dark_Channel_84', 'Dark_Channel_85',\n",
       "       'Dark_Channel_86', 'Dark_Channel_87', 'Dark_Channel_88',\n",
       "       'Dark_Channel_89', 'Dark_Channel_90', 'Dark_Channel_91',\n",
       "       'Dark_Channel_92', 'Dark_Channel_93', 'Dark_Channel_94',\n",
       "       'Dark_Channel_95', 'Dark_Channel_96', 'Dark_Channel_97',\n",
       "       'Dark_Channel_98', 'Dark_Channel_99', 'Atmospheric_Light_0',\n",
       "       'Atmospheric_Light_1', 'Atmospheric_Light_2', 'Transmission_0',\n",
       "       'Transmission_1', 'Transmission_2', 'Transmission_3',\n",
       "       'Transmission_4', 'Transmission_5', 'Transmission_6',\n",
       "       'Transmission_7', 'Transmission_8', 'Transmission_9',\n",
       "       'Transmission_10', 'Transmission_11', 'Transmission_12',\n",
       "       'Transmission_13', 'Transmission_14', 'Transmission_15',\n",
       "       'Transmission_16', 'Transmission_17', 'Transmission_18',\n",
       "       'Transmission_19', 'Transmission_20', 'Transmission_21',\n",
       "       'Transmission_22', 'Transmission_23', 'Transmission_24',\n",
       "       'Transmission_25', 'Transmission_26', 'Transmission_27',\n",
       "       'Transmission_28', 'Transmission_29', 'Transmission_30',\n",
       "       'Transmission_31', 'Transmission_32', 'Transmission_33',\n",
       "       'Transmission_34', 'Transmission_35', 'Transmission_36',\n",
       "       'Transmission_37', 'Transmission_38', 'Transmission_39',\n",
       "       'Transmission_40', 'Transmission_41', 'Transmission_42',\n",
       "       'Transmission_43', 'Transmission_44', 'Transmission_45',\n",
       "       'Transmission_46', 'Transmission_47', 'Transmission_48',\n",
       "       'Transmission_49', 'Transmission_50', 'Transmission_51',\n",
       "       'Transmission_52', 'Transmission_53', 'Transmission_54',\n",
       "       'Transmission_55', 'Transmission_56', 'Transmission_57',\n",
       "       'Transmission_58', 'Transmission_59', 'Transmission_60',\n",
       "       'Transmission_61', 'Transmission_62', 'Transmission_63',\n",
       "       'Transmission_64', 'Transmission_65', 'Transmission_66',\n",
       "       'Transmission_67', 'Transmission_68', 'Transmission_69',\n",
       "       'Transmission_70', 'Transmission_71', 'Transmission_72',\n",
       "       'Transmission_73', 'Transmission_74', 'Transmission_75',\n",
       "       'Transmission_76', 'Transmission_77', 'Transmission_78',\n",
       "       'Transmission_79', 'Transmission_80', 'Transmission_81',\n",
       "       'Transmission_82', 'Transmission_83', 'Transmission_84',\n",
       "       'Transmission_85', 'Transmission_86', 'Transmission_87',\n",
       "       'Transmission_88', 'Transmission_89', 'Transmission_90',\n",
       "       'Transmission_91', 'Transmission_92', 'Transmission_93',\n",
       "       'Transmission_94', 'Transmission_95', 'Transmission_96',\n",
       "       'Transmission_97', 'Transmission_98', 'Transmission_99',\n",
       "       'Saturation 1', 'Saturation 2', 'Saturation 3', 'Saturation 4',\n",
       "       'Saturation 5', 'Saturation 6', 'Saturation 7', 'Saturation 8',\n",
       "       'Saturation 9', 'Saturation 10', 'Contrast 1', 'PS 1', 'PS 2',\n",
       "       'PS 3', 'PS 4', 'PS 5', 'PS 6', 'PS 7', 'PS 8', 'PS 9', 'PS 10'],\n",
       "      dtype='<U62')"
      ]
     },
     "execution_count": 9,
     "metadata": {},
     "output_type": "execute_result"
    }
   ],
   "source": [
    "test[0]"
   ]
  },
  {
   "cell_type": "code",
   "execution_count": null,
   "metadata": {},
   "outputs": [],
   "source": []
  }
 ],
 "metadata": {
  "kernelspec": {
   "display_name": "Python 3",
   "language": "python",
   "name": "python3"
  },
  "language_info": {
   "codemirror_mode": {
    "name": "ipython",
    "version": 3
   },
   "file_extension": ".py",
   "mimetype": "text/x-python",
   "name": "python",
   "nbconvert_exporter": "python",
   "pygments_lexer": "ipython3",
   "version": "3.5.2"
  }
 },
 "nbformat": 4,
 "nbformat_minor": 2
}
