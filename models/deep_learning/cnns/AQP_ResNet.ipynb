{
 "cells": [
  {
   "cell_type": "code",
   "execution_count": 7,
   "metadata": {},
   "outputs": [],
   "source": [
    "import tensorflow as tf\n",
    "import numpy as np\n",
    "from tensorflow.python.ops import math_ops\n",
    "from tensorflow.python.ops import gen_array_ops\n",
    "from tensorflow.python.framework import ops\n",
    "import math\n",
    "import os\n",
    "import sys\n",
    "import re\n",
    "import tensorflow.contrib.slim as slim\n",
    "import tensorflow.contrib.slim.nets\n",
    "from tensorflow.contrib.slim.nets import resnet_v2"
   ]
  },
  {
   "cell_type": "code",
   "execution_count": null,
   "metadata": {},
   "outputs": [],
   "source": [
    "'''\n",
    "parser.add_argument('--train_dir', default='coco-animals/train')\n",
    "parser.add_argument('--val_dir', default='coco-animals/val')\n",
    "parser.add_argument('--model_path', default='resnet_v2_50.ckpt', type=str)\n",
    "parser.add_argument('--batch_size', default=32, type=int)\n",
    "parser.add_argument('--num_workers', default=4, type=int)\n",
    "parser.add_argument('--num_epochs1', default=10, type=int)\n",
    "parser.add_argument('--num_epochs2', default=10, type=int)\n",
    "parser.add_argument('--learning_rate1', default=1e-3, type=float)\n",
    "parser.add_argument('--learning_rate2', default=1e-5, type=float)\n",
    "parser.add_argument('--dropout_keep_prob', default=0.5, type=float)\n",
    "parser.add_argument('--weight_decay', default=5e-4, type=float)\n",
    "'''"
   ]
  },
  {
   "cell_type": "code",
   "execution_count": 5,
   "metadata": {},
   "outputs": [],
   "source": []
  },
  {
   "cell_type": "code",
   "execution_count": 9,
   "metadata": {},
   "outputs": [],
   "source": [
    "class AQPResNetModel(object):\n",
    "    def __init__(self, sess, inputs, labels, stage_of_development, model_path): \n",
    "        self.resnet = tf.contrib.slim\n",
    "        self.batch_inputs = tf.reshape(tf.cast(inputs, tf.float32), [-1, 224, 224, 3])\n",
    "        self.stage_of_development = stage_of_development\n",
    "        self.model_path = model_path\n",
    "        self.labels = labels\n",
    "\n",
    "        with slim.arg_scope(self.resnet.resnet_arg_scope(weight_decay=5e-4)):\n",
    "            self.logits, _ = self.resnet.resnet_50_v2(self.batch_inputs, num_classes=1, is_training=stage_of_development==\"training\", dropout_keep_prob=0.5)\n",
    "\n",
    "        # Specify where the model checkpoint is (pretrained weights).\n",
    "        self.model_path = model_path\n",
    "\n",
    "        # Restore only the layers up to \"logits\" (included)\n",
    "        # Calling function `init_fn(sess)` will load all the pretrained weights.\n",
    "        self.variables_to_restore = tf.contrib.framework.get_variables_to_restore(exclude=['resnet_50_v2/logits'])\n",
    "        print(\"ResNet 50 - VARIABLES TO RESTORE\", self.variables_to_restore)\n",
    "        self.init_fn = tf.contrib.framework.assign_from_checkpoint_fn(self.model_path, self.variables_to_restore)\n",
    "\n",
    "        # Initialization operation from scratch for the new \"logits\" layers\n",
    "        # `get_variables` will only return the variables whose name starts with the given pattern\n",
    "        self.logits_variables = tf.contrib.framework.get_variables('resnet_50_v2/logits')\n",
    "        self.logits_init = tf.variables_initializer(self.logits_variables)\n",
    "\n",
    "        # ---------------------------------------------------------------------\n",
    "        # Using tf.losses, any loss is added to the tf.GraphKeys.LOSSES collection\n",
    "        # We can then call the total loss easily\n",
    "\n",
    "        self.logits = tf.reshape(self.logits, [-1, 1])\n",
    "\n",
    "        self.all_variables = tf.trainable_variables()\n",
    "        self.variables_trained_from_scratch = self.logits_variables \n",
    "        print(\"ResNet - ALL VARIABLES: \", self.all_variables)\n",
    "        print(\"ResNet - VARIABLES TRAINED FROM SCRATCH: \", self.variables_trained_from_scratch)\n",
    "\n",
    "    def return_predictions(self):\n",
    "        return self.logits\n",
    "    def return_MASE(self):\n",
    "        return tf.reduce_mean(tf.abs(self.logits - self.labels))"
   ]
  }
 ],
 "metadata": {
  "kernelspec": {
   "display_name": "Python 3",
   "language": "python",
   "name": "python3"
  },
  "language_info": {
   "codemirror_mode": {
    "name": "ipython",
    "version": 3
   },
   "file_extension": ".py",
   "mimetype": "text/x-python",
   "name": "python",
   "nbconvert_exporter": "python",
   "pygments_lexer": "ipython3",
   "version": "3.5.2"
  }
 },
 "nbformat": 4,
 "nbformat_minor": 2
}
